{
 "cells": [
  {
   "cell_type": "raw",
   "metadata": {},
   "source": [
    "# This chatbot, FitFinds, allows people to generate a randomized workout for themselves based on how long they would like to work out and the type of exercise they are interested in."
   ]
  },
  {
   "cell_type": "markdown",
   "metadata": {},
   "source": [
    "Below, I imported 'nltk', 'random' and 'numpy' in order to execute functions involving randomization and speech. I also randomly "
   ]
  },
  {
   "cell_type": "code",
   "execution_count": 1,
   "metadata": {},
   "outputs": [],
   "source": [
    "\"\"\"Here are the lists of workout categories and the lists of exercises within each category\"\"\"\n",
    "import webbrowser\n",
    "import nltk\n",
    "import random\n",
    "import time\n",
    "\n",
    "Workout_Categories = [\"Cardio\", \"High Intensity Interval Training\", \"Pilates\", \"Strength Training\"]\n",
    "Cardio = [\"burpees\", \"jumping jacks\", \"high knees\", \"skaters\", \"mountain climbers\", \"donkey kicks\", \"jump rope\", \"jumping squats\", \"jumping lunges\", \"tuck jumps\"]\n",
    "High_Intensity_Interval_Training = [\"burpees\", \"push ups\", \"plank jacks\", \"air squats\", \"lunges\", \"shoulder tap plank\", \"goblet squats\", \"tuck jumps\", \"walking lunges\"]\n",
    "Pilates = [\"superman situps\", \"sit ups\", \"v crunches\", \"plank hip taps\",\"leg scissors\", \"leg lifts\", \"up down planks\"]\n",
    "Strength_Training = [\"goblet squats\", \"push ups\", \"kettlebell swings\", \"dumbell curls\", \"weighted lunges\", \"tricep dips\", \"overhead press\", \"shoulder press\", \"bent over row\", \"standing fly\"]"
   ]
  },
  {
   "cell_type": "code",
   "execution_count": 2,
   "metadata": {},
   "outputs": [],
   "source": [
    "\"\"\"Allows user to tell chatbot if they want more instruction on how to execute each exercise. This is the function that ends the chat. If YES, chatbot will provide user with link. If NO, chatbot will let user know they can quit chat at anytime. If QUIT, you end the chat.\"\"\"\n",
    "\n",
    "def workout_demo():\n",
    "    stop = False\n",
    "    \n",
    "    demo_website_1 = \"http://www.healthline.com/health/cardio-exercises-at-home\"\n",
    "    chrome_path = 'C:/Program Files (x86)/Google/Chrome/Application/chrome.exe %s'\n",
    "    \n",
    "    print(\"\\nWould you like instruction on how to complete the exercises?\")\n",
    "    while stop == False:\n",
    "        input_line = input(\"Choose YES, NO or QUIT\")\n",
    "        if \"YES\" in input_line:\n",
    "            print(\"Ok! We will send you to a link that will explain these exerices. You can exit FitFinds by typing quit at any time\")\n",
    "            webbrowser.get(chrome_path).open(demo_website_1)\n",
    "            time.sleep(1)\n",
    "            return demo_website_1\n",
    "        elif \"NO\" in input_line:\n",
    "            print(\"Ok! You can exit FitFinds by typing quit at any time\")\n",
    "        elif \"QUIT\" in input_line:\n",
    "            return (\"Ok! Thanks for using FitFinds\")\n",
    "        else:\n",
    "            print(\"Sorry! This is not an option. Choose YES or NO\")"
   ]
  },
  {
   "cell_type": "code",
   "execution_count": 3,
   "metadata": {},
   "outputs": [],
   "source": [
    "\"\"\"This function allows user to define how long they would like to exercise for. It will pull up a link demonstrating how to do the exercises if the user wants more instruction.\"\"\"\n",
    "    \n",
    "def workout_time():\n",
    "    stop = False\n",
    "    print(\"\\nHow long would you like to workout for?\")\n",
    "    while stop == False:\n",
    "        input_line = input(\"Choose from 15, 30, or 45 minutes\")\n",
    "        if \"15 minutes\" in input_line:\n",
    "            print(\"Ok! Complete 10 reps of each exercise for 3 rounds. Short and sweaty!\")\n",
    "            return workout_demo()\n",
    "        elif \"30 minutes\" in input_line:\n",
    "            print(\"Cool! Complete 20 reps of each exercise for 4 rounds. Just right!\")\n",
    "            return workout_demo()\n",
    "        elif \"45 minutes\" in input_line:\n",
    "            print(\"Good choice! Complete 30 reps of each exercise for 5 rounds. You've got this!\")\n",
    "            return workout_demo()\n",
    "        else:\n",
    "            print(\"Sorry! That time is not an option. Choose from 15, 30 or 45 minutes\")"
   ]
  },
  {
   "cell_type": "code",
   "execution_count": 4,
   "metadata": {},
   "outputs": [],
   "source": [
    "\"\"\"This function allows user to chose which category of workout they would like to do. This function will randomly choose 5 exercises from the list that matches the workout category of their choice\"\"\"\n",
    "\n",
    "def workout_categories():\n",
    "    stop = False\n",
    "    print(\"\\nWelcome to FitFinds!\")\n",
    "    while stop == False:\n",
    "        input_line = input(\"What kind of workout are you in the mood for? Choose from Cardio, Pilates, High Intensity Interval Training, or Strength Training\")\n",
    "        if \"Cardio\" in input_line:          \n",
    "            num_to_select = 5                         \n",
    "            list_of_random_cardio = random.sample(Cardio, num_to_select)\n",
    "            first_random_item = Cardio[0]\n",
    "            second_random_item = Cardio[1] \n",
    "            print (list_of_random_cardio)\n",
    "            return workout_time()\n",
    "        elif \"High Intensity Interval Training\" in input_line:          \n",
    "            num_to_select = 5                         \n",
    "            list_of_random_high_intensity_interval_training = random.sample(High_Intensity_Interval_Training, num_to_select)\n",
    "            first_random_item = High_Intensity_Interval_Training[0]\n",
    "            second_random_item = High_Intensity_Interval_Training[1] \n",
    "            print (list_of_random_high_intensity_interval_training)\n",
    "            return workout_time()\n",
    "        elif \"Pilates\" in input_line:\n",
    "            num_to_select = 5                         \n",
    "            list_of_random_pilates = random.sample(Pilates, num_to_select)\n",
    "            first_random_item = Pilates[0]\n",
    "            second_random_item = Pilates[1] \n",
    "            print (list_of_random_pilates)\n",
    "            return workout_time()\n",
    "        elif \"Strength Training\" in input_line:\n",
    "            num_to_select = 5                         \n",
    "            list_of_random_strength = random.sample(Strength_Training, num_to_select)\n",
    "            first_random_item = Strength_Training[0]\n",
    "            second_random_item = Strength_Training[1] \n",
    "            print (list_of_random_strength)\n",
    "            return workout_time()\n",
    "        else:\n",
    "            print(\"Sorry! That workout is not an option. Pick from Cardio, High Intensity Interval Training, Strength Training and Pilates.\")"
   ]
  },
  {
   "cell_type": "code",
   "execution_count": 5,
   "metadata": {},
   "outputs": [],
   "source": [
    "\"\"\"This function ends the chat officially\"\"\"\n",
    "def end_chat(input_line):\n",
    "    if 'quit' in input_line:\n",
    "        return True\n",
    "    else:\n",
    "        return False"
   ]
  },
  {
   "cell_type": "code",
   "execution_count": 6,
   "metadata": {},
   "outputs": [],
   "source": [
    "\"\"\"This is the main function that runs our chatbot, FitFinds\"\"\"\n",
    "\n",
    "def FitFindsChat():\n",
    "\n",
    "    chat = True\n",
    "    while chat:\n",
    "        msg = input('Greetings! :\\t')\n",
    "        out_msg = None\n",
    "\n",
    "        # Check for an end msg \n",
    "        if end_chat(msg):\n",
    "            out_msg = 'quit'\n",
    "            print(\"Have a good workout!\")\n",
    "            chat = False\n",
    "            break     \n",
    "        return workout_categories()\n",
    "        return workout_time()\n",
    "        return workout_demo()"
   ]
  },
  {
   "cell_type": "code",
   "execution_count": 7,
   "metadata": {},
   "outputs": [
    {
     "name": "stdout",
     "output_type": "stream",
     "text": [
      "Greetings! :\thello\n",
      "\n",
      "Welcome to FitFinds!\n",
      "What kind of workout are you in the mood for? Choose from Cardio, Pilates, High Intensity Interval Training, or Strength TrainingCardio\n",
      "['jumping lunges', 'donkey kicks', 'tuck jumps', 'skaters', 'burpees']\n",
      "\n",
      "How long would you like to workout for?\n",
      "Choose from 15, 30, or 45 minutes15 minutes\n",
      "Ok! Complete 10 reps of each exercise for 3 rounds. Short and sweaty!\n",
      "\n",
      "Would you like instruction on how to complete the exercises?\n",
      "Choose YES, NO or QUITYES\n",
      "Ok! We will send you to a link that will explain these exerices. You can exit FitFinds by typing quit at any time\n"
     ]
    },
    {
     "data": {
      "text/plain": [
       "'http://www.healthline.com/health/cardio-exercises-at-home'"
      ]
     },
     "execution_count": 7,
     "metadata": {},
     "output_type": "execute_result"
    }
   ],
   "source": [
    "FitFindsChat()"
   ]
  },
  {
   "cell_type": "code",
   "execution_count": 8,
   "metadata": {},
   "outputs": [
    {
     "name": "stdout",
     "output_type": "stream",
     "text": [
      "Greetings! :\thi\n",
      "\n",
      "Welcome to FitFinds!\n",
      "What kind of workout are you in the mood for? Choose from Cardio, Pilates, High Intensity Interval Training, or Strength TrainingPilates\n",
      "['superman situps', 'leg scissors', 'v crunches', 'leg lifts', 'plank hip taps']\n",
      "\n",
      "How long would you like to workout for?\n",
      "Choose from 15, 30, or 45 minutes45 minutes\n",
      "Good choice! Complete 30 reps of each exercise for 5 rounds. You've got this!\n",
      "\n",
      "Would you like instruction on how to complete the exercises?\n",
      "Choose YES, NO or QUITNO\n",
      "Ok! You can exit FitFinds by typing quit at any time\n",
      "Choose YES, NO or QUITQUIT\n"
     ]
    },
    {
     "data": {
      "text/plain": [
       "'Ok! Thanks for using FitFinds'"
      ]
     },
     "execution_count": 8,
     "metadata": {},
     "output_type": "execute_result"
    }
   ],
   "source": [
    "FitFindsChat()"
   ]
  },
  {
   "cell_type": "code",
   "execution_count": null,
   "metadata": {},
   "outputs": [],
   "source": []
  }
 ],
 "metadata": {
  "kernelspec": {
   "display_name": "Python 3",
   "language": "python",
   "name": "python3"
  },
  "language_info": {
   "codemirror_mode": {
    "name": "ipython",
    "version": 3
   },
   "file_extension": ".py",
   "mimetype": "text/x-python",
   "name": "python",
   "nbconvert_exporter": "python",
   "pygments_lexer": "ipython3",
   "version": "3.6.7"
  }
 },
 "nbformat": 4,
 "nbformat_minor": 2
}
